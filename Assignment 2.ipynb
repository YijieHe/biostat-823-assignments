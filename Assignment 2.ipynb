{
 "cells": [
  {
   "cell_type": "code",
   "execution_count": 32,
   "metadata": {},
   "outputs": [],
   "source": [
    "import numpy as np\n",
    "import math"
   ]
  },
  {
   "cell_type": "markdown",
   "metadata": {},
   "source": [
    "### Special Pythagorean triplet\n",
    "\n",
    "#### Problem 9:    solved by 356556\n",
    "\n",
    "A Pythagorean triplet is a set of three natural numbers, a < b < c, for which,\n",
    "\n",
    "a2 + b2 = c2\n",
    "For example, 32 + 42 = 9 + 16 = 25 = 52.\n",
    "\n",
    "There exists exactly one Pythagorean triplet for which a + b + c = 1000.\n",
    "Find the product abc."
   ]
  },
  {
   "cell_type": "markdown",
   "metadata": {},
   "source": [
    "##### Idea: \n",
    "\n",
    "To solve the problem, loop over all possible values of a, b, c, until the condition is satisfied. \n",
    "\n",
    "The loop limits are set to 499, which is the limit for a, b, c to form a \n",
    "triangle. \n"
   ]
  },
  {
   "cell_type": "code",
   "execution_count": 18,
   "metadata": {},
   "outputs": [],
   "source": [
    "def find_pyth_trip():\n",
    "    ''' \n",
    "    A function to find a special pythagorean triplet without any input.\n",
    "    \n",
    "    The special triangle: a + b + c = 1000\n",
    "    '''\n",
    "    for i in list(range(499)):\n",
    "        a = i + 1 \n",
    "        for j in list(range(499)):\n",
    "            b = j + 1 \n",
    "            c = 1000 - a - b \n",
    "            if ( (a**2 + b**2) == c**2) and a < b:\n",
    "                print('Triangle sides:', a,b,c, \"\\n\" 'Product:', a*b*c)\n"
   ]
  },
  {
   "cell_type": "code",
   "execution_count": 19,
   "metadata": {},
   "outputs": [
    {
     "name": "stdout",
     "output_type": "stream",
     "text": [
      "Triangle sides: 200 375 425 \n",
      "Product: 31875000\n"
     ]
    }
   ],
   "source": [
    "find_pyth_trip()"
   ]
  },
  {
   "cell_type": "markdown",
   "metadata": {},
   "source": [
    "### Champernowne's constant\n",
    "\n",
    "#### Problem 40: sovled by 78632\n",
    "\n",
    "An irrational decimal fraction is created by concatenating the positive integers:\n",
    "\n",
    "0.123456789101112131415161718192021...\n",
    "\n",
    "It can be seen that the 12th digit of the fractional part is 1.\n",
    "\n",
    "If dn represents the nth digit of the fractional part, find the value of the following expression.\n",
    "\n",
    "d1 × d10 × d100 × d1000 × d10000 × d100000 × d1000000"
   ]
  },
  {
   "cell_type": "markdown",
   "metadata": {},
   "source": [
    "##### Idea:\n",
    "\n",
    "The Champernowne's constant is appending the natural numbers to decimal point. \n",
    "\n",
    "So, keep adding the natural numbers until we get the desired digits, and, find the product. "
   ]
  },
  {
   "cell_type": "code",
   "execution_count": 16,
   "metadata": {},
   "outputs": [],
   "source": [
    "def find_cham_product():\n",
    "    '''\n",
    "    A function to find product of Champernowne's constant at specified digits without any input.\n",
    "    '''\n",
    "    v = list() \n",
    "    i = 1\n",
    "\n",
    "    while i >= 1:\n",
    "        v.append(i)\n",
    "        digit = int(math.log10(v[-1]))+1\n",
    "        length = len(v)\n",
    "        i += 1\n",
    "        if ( (1+digit)*length/2  >= 1000000 ):\n",
    "            break\n",
    "\n",
    "    res = \"\".join(map(str, v))        \n",
    "\n",
    "    product = int(res[0]) * int(res[9]) * int(res[99]) * int(res[999]) * int(res[9999]) * int(res[99999]) * int(res[999999])\n",
    "\n",
    "    print('The product is:', product)"
   ]
  },
  {
   "cell_type": "code",
   "execution_count": 17,
   "metadata": {},
   "outputs": [
    {
     "name": "stdout",
     "output_type": "stream",
     "text": [
      "The product is: 210\n"
     ]
    }
   ],
   "source": [
    "find_cham_product() "
   ]
  },
  {
   "cell_type": "markdown",
   "metadata": {},
   "source": [
    "### Prime summations\n",
    "\n",
    "#### Problem 77: solved by 18307\n",
    "\n",
    "It is possible to write ten as the sum of primes in exactly five different ways:\n",
    "\n",
    "7 + 3  \n",
    "5 + 5  \n",
    "5 + 3 + 2  \n",
    "3 + 3 + 2 + 2  \n",
    "2 + 2 + 2 + 2 + 2  \n",
    "\n",
    "What is the first value which can be written as the sum of primes in over five thousand different ways?"
   ]
  },
  {
   "cell_type": "markdown",
   "metadata": {},
   "source": [
    "##### Idea:\n",
    "ref: [The OEIS Foundation](https://oeis.org/A000607)\n",
    "\n",
    "Starting from a small number, which was chosen according to the reference, and find all ways of summation. \n",
    "\n",
    "Then, increase the value and put it in the same loop. The algorythm is described in the reference. \n",
    "\n",
    "\n"
   ]
  },
  {
   "cell_type": "code",
   "execution_count": 20,
   "metadata": {},
   "outputs": [],
   "source": [
    "def prime_gen(start, end):\n",
    "    '''\n",
    "    A function to generate prime numbers given an interval.\n",
    "    \n",
    "    start is the starting number, end is the ending number \n",
    "    '''\n",
    "    primes = []\n",
    "    \n",
    "    for i in range(start,end): \n",
    "        for j in range(2,i): \n",
    "            if(i % j==0): \n",
    "                break\n",
    "        else: \n",
    "            primes.append(i) \n",
    "            \n",
    "    return primes\n",
    "  "
   ]
  },
  {
   "cell_type": "code",
   "execution_count": 21,
   "metadata": {},
   "outputs": [],
   "source": [
    "# Generate sequence of prime numbers \n",
    "start = 2\n",
    "end = 100    \n",
    "primes = prime_gen(start, end)"
   ]
  },
  {
   "cell_type": "code",
   "execution_count": 41,
   "metadata": {},
   "outputs": [
    {
     "name": "stdout",
     "output_type": "stream",
     "text": [
      "First value written as the sum of primes \n",
      "in over 5000 ways: 71\n"
     ]
    }
   ],
   "source": [
    "# Solution       \n",
    "L, target = 5000, 11\n",
    "while True:\n",
    "    ways = [1] + [0]*target\n",
    "    for p in primes:\n",
    "        for i in range(p, target+1):\n",
    "            ways[i] += ways[i-p]\n",
    "    if ways[target] > L: break  \n",
    "    target += 1\n",
    "    \n",
    "\n",
    "print(\"First value written as the sum of primes \\nin over\", L, \"ways:\", target)"
   ]
  },
  {
   "cell_type": "code",
   "execution_count": null,
   "metadata": {},
   "outputs": [],
   "source": []
  }
 ],
 "metadata": {
  "kernelspec": {
   "display_name": "Python 3",
   "language": "python",
   "name": "python3"
  },
  "language_info": {
   "codemirror_mode": {
    "name": "ipython",
    "version": 3
   },
   "file_extension": ".py",
   "mimetype": "text/x-python",
   "name": "python",
   "nbconvert_exporter": "python",
   "pygments_lexer": "ipython3",
   "version": "3.7.8"
  }
 },
 "nbformat": 4,
 "nbformat_minor": 4
}
